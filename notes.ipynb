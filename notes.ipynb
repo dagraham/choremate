{
 "cells": [
  {
   "cell_type": "markdown",
   "metadata": {},
   "source": [
    "# What to tell etm folks about trf?\n",
    "\n"
   ]
  },
  {
   "cell_type": "raw",
   "metadata": {
    "vscode": {
     "languageId": "raw"
    }
   },
   "source": [
    "‌tag  forecast  η spread   latest    name\n",
    "a    24-09-12  2d4h      24-09-02   fill bird feeders\n",
    "b    24-09-17  3d1h30m   24-09-10   between early and late\n",
    "c    24-09-18  1d20h     24-09-11   before early\n",
    "d       ~         ~      24-09-08   only one completion\n",
    "e       ~         ~          ~      no completions yet"
   ]
  },
  {
   "cell_type": "raw",
   "metadata": {
    "vscode": {
     "languageId": "raw"
    }
   },
   "source": [
    "name:         fill bird feeders\n",
    "doc_id:       1\n",
    "created:      240915T1232\n",
    "modified:     240915T1238\n",
    "completions:  (3)\n",
    "    240813T1400 +0m, 240824T1400 +0m, 240902T1000 +0m\n",
    "intervals:    (2)\n",
    "    +11d, +8d20h\n",
    "    average:  9d22h↓\n",
    "    spread:   1d2h\n",
    "forecast:     240912T0800\n",
    "    early:    240910T0400\n",
    "    late:     240914T1200\n"
   ]
  },
  {
   "cell_type": "markdown",
   "metadata": {},
   "source": [
    "# Dialogs\n",
    "\n",
    "## Strategy\n",
    "\n",
    "Components each of which does one thing well and which play nice with one another.\n",
    "\n",
    "### Interfaces\n",
    "\n",
    "- Conditional message area\n",
    "    - input only keypress, tag, y/n, ...\n",
    "\n",
    "- Conditional dialog\n",
    "    - message/response window\n",
    "    - input window (strings)\n",
    "\n",
    "- Display area (non interactive, list view, inspect view, ...)\n",
    "\n",
    "## Uses\n",
    "\n",
    "### new\n",
    "\n",
    "### complete\n",
    "\n",
    "### edit (history of completions)\n",
    "\n",
    "### delete\n",
    "\n",
    "### rename\n",
    "\n",
    "### inspect\n",
    "\n",
    "### sort\n",
    "\n",
    "### settings\n",
    "\n",
    "\n",
    "## Components\n",
    "\n",
    "### get character\n",
    "- get tag (get tracker)\n",
    "- get yes/no\n",
    "- sort\n",
    "\n",
    "### get tracker (from row or tag)\n",
    "- complete\n",
    "- edit\n",
    "- delete\n",
    "- rename\n",
    "- inspect\n",
    "\n",
    "### get string input with feedback\n",
    "- new\n",
    "- edit\n",
    "- complete\n",
    "- rename\n",
    "- settings\n",
    "\n",
    "## Key Bindings\n",
    "\n",
    "### Common\n",
    "- c-q (quit)\n",
    "- escape (cancel current operation)\n",
    "\n",
    "### menu \n",
    "- menu keys (including function keys)\n",
    "\n",
    "### tags\n",
    "- char for tags in active page\n"
   ]
  }
 ],
 "metadata": {
  "language_info": {
   "name": "python"
  }
 },
 "nbformat": 4,
 "nbformat_minor": 2
}

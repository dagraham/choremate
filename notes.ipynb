{
 "cells": [
  {
   "cell_type": "markdown",
   "metadata": {},
   "source": [
    "# What to tell etm folks about trf?\n",
    "\n"
   ]
  },
  {
   "cell_type": "raw",
   "metadata": {
    "vscode": {
     "languageId": "raw"
    }
   },
   "source": [
    "‌tag  forecast  η spread   latest    name\n",
    "a    24-09-12  2d4h      24-09-02   fill bird feeders\n",
    "b    24-09-17  3d1h30m   24-09-10   between early and late\n",
    "c    24-09-18  1d20h     24-09-11   before early\n",
    "d       ~         ~      24-09-08   only one completion\n",
    "e       ~         ~          ~      no completions yet"
   ]
  },
  {
   "cell_type": "raw",
   "metadata": {
    "vscode": {
     "languageId": "raw"
    }
   },
   "source": [
    "name:         fill bird feeders\n",
    "doc_id:       1\n",
    "created:      240915T1232\n",
    "modified:     240915T1238\n",
    "completions:  (3)\n",
    "    240813T1400 +0m, 240824T1400 +0m, 240902T1000 +0m\n",
    "intervals:    (2)\n",
    "    +11d, +8d20h\n",
    "    average:  9d22h↓\n",
    "    spread:   1d2h\n",
    "forecast:     240912T0800\n",
    "    early:    240910T0400\n",
    "    late:     240914T1200\n"
   ]
  }
 ],
 "metadata": {
  "language_info": {
   "name": "python"
  }
 },
 "nbformat": 4,
 "nbformat_minor": 2
}
